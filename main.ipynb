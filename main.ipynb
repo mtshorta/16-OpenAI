{
 "cells": [
  {
   "cell_type": "code",
   "execution_count": 42,
   "metadata": {},
   "outputs": [],
   "source": [
    "import os\n",
    "import openai\n",
    "from dotenv import load_dotenv\n",
    "\n",
    "load_dotenv()\n",
    "\n",
    "API_KEY = os.getenv(\"API_KEY\")\n",
    "client = openai.Client(api_key=API_KEY)\n",
    "#print(API_KEY)\n",
    "\n"
   ]
  },
  {
   "cell_type": "code",
   "execution_count": 43,
   "metadata": {},
   "outputs": [],
   "source": [
    "mensagens = [{'role': 'user', 'content' : 'O que é uma maçã em 5 palavras'}]\n",
    "resposta = client.chat.completions.create(\n",
    "    messages = mensagens,\n",
    "    model = 'gpt-3.5-turbo-0125',\n",
    "    max_tokens = 1000,\n",
    "    temperature = 0\n",
    ")"
   ]
  },
  {
   "cell_type": "code",
   "execution_count": 44,
   "metadata": {},
   "outputs": [
    {
     "name": "stdout",
     "output_type": "stream",
     "text": [
      "Fruta redonda e saborosa.\n"
     ]
    }
   ],
   "source": [
    "print(resposta.choices[0].message.content)"
   ]
  },
  {
   "cell_type": "code",
   "execution_count": 45,
   "metadata": {},
   "outputs": [],
   "source": [
    "mensagens.append({'role' : 'assistant', 'content' : resposta.choices[0].message.content})\n"
   ]
  },
  {
   "cell_type": "code",
   "execution_count": 46,
   "metadata": {},
   "outputs": [],
   "source": [
    "mensagens.append({'role':'user', 'content' : 'E qual sua cor?'})"
   ]
  },
  {
   "cell_type": "code",
   "execution_count": 47,
   "metadata": {},
   "outputs": [],
   "source": [
    "resposta = client.chat.completions.create(\n",
    "    messages = mensagens,\n",
    "    model = 'gpt-3.5-turbo-0125',\n",
    "    max_tokens = 1000,\n",
    "    temperature = 0\n",
    ")"
   ]
  },
  {
   "cell_type": "code",
   "execution_count": 48,
   "metadata": {},
   "outputs": [
    {
     "name": "stdout",
     "output_type": "stream",
     "text": [
      "Vermelha ou verde, dependendo da variedade.\n"
     ]
    }
   ],
   "source": [
    "print(resposta.choices[0].message.content)"
   ]
  },
  {
   "cell_type": "markdown",
   "metadata": {},
   "source": [
    "# Criando uma função\n",
    "Função para obtenção de resposta\n"
   ]
  },
  {
   "cell_type": "code",
   "execution_count": 67,
   "metadata": {},
   "outputs": [],
   "source": [
    "def geracao_texto(mensagens, model = 'gpt-3.5-turbo-0125', max_tokens = 1000, temperature = 0):\n",
    "    resposta = client.chat.completions.create(\n",
    "        messages = mensagens,\n",
    "        model = model,\n",
    "        max_tokens=max_tokens,\n",
    "        temperature = temperature,\n",
    "        #stream=True #esse parametro faz com que os tokens de resposta sejam compartilhados conforme são gerados ao inves de esperar o carregamento da resposta completa\n",
    "    )\n",
    "    print(resposta.choices[0].message.content)\n",
    "    mensagens.append(resposta.choices[0].message.model_dump(exclude_none=True))\n",
    "    # outra forma = mensagens.append({'role':'assistant', 'content':resposta.choices[0].message.content})\n",
    "    return mensagens"
   ]
  },
  {
   "cell_type": "markdown",
   "metadata": {},
   "source": [
    "# Obtendo reposta em srteam ao invés de aguardando pelo instantâneo"
   ]
  },
  {
   "cell_type": "code",
   "execution_count": 81,
   "metadata": {},
   "outputs": [],
   "source": [
    "def geracao_texto(mensagens, model = 'gpt-3.5-turbo-0125', max_tokens = 1000, temperature = 0):\n",
    "    resposta = client.chat.completions.create(\n",
    "        messages = mensagens,\n",
    "        model = model,\n",
    "        max_tokens=max_tokens,\n",
    "        temperature = temperature,\n",
    "        stream=True #esse parametro faz com que os tokens de resposta sejam compartilhados conforme são gerados ao inves de esperar o carregamento da resposta completa\n",
    "    )\n",
    "    resposta_completa = ''\n",
    "    for stream_resposta in resposta:\n",
    "        texto = stream_resposta.choices[0].delta.content\n",
    "        if texto:\n",
    "            resposta_completa += texto\n",
    "            print(texto, end = '')\n",
    "    #mensagens.append(resposta.choices[0].message.model_dump(exclude_none=True))\n",
    "    mensagens.append({'role':'assistant', 'content':resposta_completa})\n",
    "    return mensagens"
   ]
  },
  {
   "cell_type": "code",
   "execution_count": 82,
   "metadata": {},
   "outputs": [
    {
     "name": "stdout",
     "output_type": "stream",
     "text": [
      "Python é uma linguagem de programação de alto nível, interpretada, de tipagem dinâmica e multiplataforma. É conhecida por sua sintaxe simples e legível, o que a torna uma ótima opção para iniciantes em programação. Python é amplamente utilizado em diversas áreas, como desenvolvimento web, análise de dados, inteligência artificial, automação de tarefas, entre outros. É uma das linguagens de programação mais populares e amplamente utilizadas no mundo."
     ]
    }
   ],
   "source": [
    "mensagens = [{'role': 'user', 'content' : 'O que é o Python'}]\n",
    "\n",
    "mensagens = geracao_texto(mensagens)"
   ]
  },
  {
   "cell_type": "code",
   "execution_count": 83,
   "metadata": {},
   "outputs": [
    {
     "name": "stdout",
     "output_type": "stream",
     "text": [
      "[{'role': 'user', 'content': 'O que é o Python'}, {'role': 'assistant', 'content': 'Python é uma linguagem de programação de alto nível, interpretada, de tipagem dinâmica e multiplataforma. É conhecida por sua sintaxe simples e legível, o que a torna uma ótima opção para iniciantes em programação. Python é amplamente utilizado em diversas áreas, como desenvolvimento web, análise de dados, inteligência artificial, automação de tarefas, entre outros. É uma das linguagens de programação mais populares e amplamente utilizadas no mundo.'}]\n"
     ]
    }
   ],
   "source": [
    "print(mensagens)"
   ]
  },
  {
   "cell_type": "code",
   "execution_count": 74,
   "metadata": {},
   "outputs": [
    {
     "name": "stdout",
     "output_type": "stream",
     "text": [
      "Sim, definitivamente vale a pena aprender Python se você está interessado em uma carreira de cientista de dados. Python é uma das linguagens mais populares e amplamente utilizadas na área de ciência de dados devido à sua facilidade de uso, vasta quantidade de bibliotecas e ferramentas disponíveis, e sua capacidade de lidar com grandes conjuntos de dados de forma eficiente.\n",
      "\n",
      "Muitas das principais bibliotecas e frameworks utilizados em ciência de dados, como Pandas, NumPy, Scikit-learn, TensorFlow e PyTorch, são escritos em Python. Além disso, Python é uma linguagem versátil que pode ser usada para diversas tarefas, desde a limpeza e análise de dados até a construção de modelos de machine learning e visualizações de dados.\n",
      "\n",
      "Portanto, aprender Python é uma excelente escolha para quem deseja seguir uma carreira de cientista de dados, pois lhe dará as habilidades necessárias para trabalhar com eficiência e eficácia nessa área em constante crescimento."
     ]
    }
   ],
   "source": [
    "mensagens.append({'role':'user', 'content' : 'Pensando em uma carreira de cientista de dados, vale a pena aprender essa linguagem?'})\n",
    "mensagens = geracao_texto(mensagens)"
   ]
  },
  {
   "cell_type": "code",
   "execution_count": 80,
   "metadata": {},
   "outputs": [
    {
     "name": "stdout",
     "output_type": "stream",
     "text": [
      "[{'role': 'user', 'content': 'O que é o Python'}, {'role': 'assistant', 'content': 'Python é uma linguagem de programação de alto nível, interpretada, de tipagem dinâmica e multiplataforma. Foi criada por Guido van Rossum e lançada em 1991. Python é conhecida por sua sintaxe simples e legível, o que a torna uma ótima opção para iniciantes em programação. É amplamente utilizada em diversas áreas, como desenvolvimento web, análise de dados, inteligência artificial, automação de tarefas, entre outras. É uma das linguagens de programação mais populares e amplamente utilizadas no mundo.'}, {'role': 'user', 'content': 'Pensando em uma carreira de cientista de dados, vale a pena aprender essa linguagem?'}, {'role': 'assistant', 'content': 'Sim, definitivamente vale a pena aprender Python se você está interessado em uma carreira de cientista de dados. Python é uma das linguagens mais populares e amplamente utilizadas na área de ciência de dados devido à sua facilidade de uso, vasta quantidade de bibliotecas e ferramentas disponíveis, e sua capacidade de lidar com grandes conjuntos de dados de forma eficiente.\\n\\nMuitas das principais bibliotecas e frameworks utilizados em ciência de dados, como Pandas, NumPy, Scikit-learn, TensorFlow e PyTorch, são escritos em Python. Além disso, Python é uma linguagem versátil que pode ser usada para diversas tarefas, desde a limpeza e análise de dados até a construção de modelos de machine learning e visualizações de dados.\\n\\nPortanto, aprender Python é uma excelente escolha para quem deseja seguir uma carreira de cientista de dados, pois lhe dará as habilidades necessárias para trabalhar com eficiência e eficácia nessa área em constante crescimento.'}]\n"
     ]
    }
   ],
   "source": [
    "print(mensagens)\n"
   ]
  }
 ],
 "metadata": {
  "kernelspec": {
   "display_name": "Python 3",
   "language": "python",
   "name": "python3"
  },
  "language_info": {
   "codemirror_mode": {
    "name": "ipython",
    "version": 3
   },
   "file_extension": ".py",
   "mimetype": "text/x-python",
   "name": "python",
   "nbconvert_exporter": "python",
   "pygments_lexer": "ipython3",
   "version": "3.11.5"
  },
  "orig_nbformat": 4
 },
 "nbformat": 4,
 "nbformat_minor": 2
}
